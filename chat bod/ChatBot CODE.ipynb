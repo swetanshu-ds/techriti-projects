{
 "cells": [
  {
   "cell_type": "code",
   "execution_count": null,
   "id": "8554c23c",
   "metadata": {},
   "outputs": [],
   "source": [
    "import numpy as np\n",
    "import pickle"
   ]
  },
  {
   "cell_type": "code",
   "execution_count": null,
   "id": "23876b65",
   "metadata": {},
   "outputs": [],
   "source": [
    "with open(\"train_qa.txt\",\"rb\") as fp:\n",
    "    train_data=pickle.load(fp)"
   ]
  },
  {
   "cell_type": "code",
   "execution_count": null,
   "id": "361fb591",
   "metadata": {},
   "outputs": [],
   "source": [
    "train_data"
   ]
  },
  {
   "cell_type": "code",
   "execution_count": null,
   "id": "23d7f449",
   "metadata": {},
   "outputs": [],
   "source": [
    "with open(\"test_qa.txt\",\"rb\") as fp:\n",
    "    test_data=pickle.load(fp)"
   ]
  },
  {
   "cell_type": "code",
   "execution_count": null,
   "id": "aec955db",
   "metadata": {},
   "outputs": [],
   "source": [
    "test_data"
   ]
  },
  {
   "cell_type": "code",
   "execution_count": null,
   "id": "fb41c108",
   "metadata": {},
   "outputs": [],
   "source": [
    "type(test_data)"
   ]
  },
  {
   "cell_type": "code",
   "execution_count": null,
   "id": "558ba1a2",
   "metadata": {},
   "outputs": [],
   "source": [
    "type(train_data)"
   ]
  },
  {
   "cell_type": "code",
   "execution_count": null,
   "id": "7dac521a",
   "metadata": {},
   "outputs": [],
   "source": [
    "len(test_data)"
   ]
  },
  {
   "cell_type": "code",
   "execution_count": null,
   "id": "ae837b31",
   "metadata": {},
   "outputs": [],
   "source": [
    "len(train_data)"
   ]
  },
  {
   "cell_type": "code",
   "execution_count": null,
   "id": "c7106c88",
   "metadata": {},
   "outputs": [],
   "source": [
    "train_data[0]"
   ]
  },
  {
   "cell_type": "code",
   "execution_count": null,
   "id": "c0796ac5",
   "metadata": {},
   "outputs": [],
   "source": [
    "' '.join(train_data[0][0])"
   ]
  },
  {
   "cell_type": "code",
   "execution_count": null,
   "id": "2ccc9809",
   "metadata": {},
   "outputs": [],
   "source": [
    "' '.join(train_data[0][1])"
   ]
  },
  {
   "cell_type": "code",
   "execution_count": null,
   "id": "867b5d77",
   "metadata": {},
   "outputs": [],
   "source": [
    "train_data[0][2]"
   ]
  },
  {
   "cell_type": "code",
   "execution_count": null,
   "id": "441a8d17",
   "metadata": {},
   "outputs": [],
   "source": [
    "##  setting up the vocabulary"
   ]
  },
  {
   "cell_type": "code",
   "execution_count": null,
   "id": "bf0d9918",
   "metadata": {},
   "outputs": [],
   "source": [
    "vocab=set()"
   ]
  },
  {
   "cell_type": "code",
   "execution_count": null,
   "id": "16eb74c1",
   "metadata": {},
   "outputs": [],
   "source": [
    "all_data =test_data + train_data"
   ]
  },
  {
   "cell_type": "code",
   "execution_count": null,
   "id": "85e4de9b",
   "metadata": {},
   "outputs": [],
   "source": [
    "all_data"
   ]
  },
  {
   "cell_type": "code",
   "execution_count": null,
   "id": "8d236c4e",
   "metadata": {},
   "outputs": [],
   "source": [
    "for story,question,answer in all_data:\n",
    "    vocab = vocab.union(set(story))\n",
    "    vocab = vocab.union(set(question))"
   ]
  },
  {
   "cell_type": "code",
   "execution_count": null,
   "id": "f28348dd",
   "metadata": {},
   "outputs": [],
   "source": [
    "vocab.add('yes')\n",
    "vocab.add('no')"
   ]
  },
  {
   "cell_type": "code",
   "execution_count": null,
   "id": "d7b1d42f",
   "metadata": {},
   "outputs": [],
   "source": [
    "vocab"
   ]
  },
  {
   "cell_type": "code",
   "execution_count": null,
   "id": "d90b003d",
   "metadata": {},
   "outputs": [],
   "source": [
    "len(vocab)"
   ]
  },
  {
   "cell_type": "code",
   "execution_count": null,
   "id": "2655a3a8",
   "metadata": {},
   "outputs": [],
   "source": [
    "vocab_len = len(vocab)+1"
   ]
  },
  {
   "cell_type": "code",
   "execution_count": null,
   "id": "26dbb9c1",
   "metadata": {},
   "outputs": [],
   "source": [
    "max_story_len=max([len(data[0]) for data in all_data])\n",
    "max_story_len"
   ]
  },
  {
   "cell_type": "code",
   "execution_count": null,
   "id": "2c04b95e",
   "metadata": {},
   "outputs": [],
   "source": [
    "max_ques_len=max([len(data[1]) for data in all_data])\n",
    "max_ques_len"
   ]
  },
  {
   "cell_type": "code",
   "execution_count": null,
   "id": "f5d19c19",
   "metadata": {},
   "outputs": [],
   "source": [
    "###  Vectorize"
   ]
  },
  {
   "cell_type": "code",
   "execution_count": null,
   "id": "3151a016",
   "metadata": {},
   "outputs": [],
   "source": [
    "vocab"
   ]
  },
  {
   "cell_type": "code",
   "execution_count": null,
   "id": "147eb631",
   "metadata": {},
   "outputs": [],
   "source": [
    "from keras.preprocessing.sequence import pad_sequences\n",
    "from keras.preprocessing.text import Tokenizer"
   ]
  },
  {
   "cell_type": "code",
   "execution_count": null,
   "id": "35519095",
   "metadata": {},
   "outputs": [],
   "source": [
    "tokenizer=Tokenizer(filters = [])"
   ]
  },
  {
   "cell_type": "code",
   "execution_count": null,
   "id": "ff040720",
   "metadata": {},
   "outputs": [],
   "source": [
    "tokenizer.fit_on_texts(vocab)"
   ]
  },
  {
   "cell_type": "code",
   "execution_count": null,
   "id": "375fe629",
   "metadata": {},
   "outputs": [],
   "source": [
    "tokenizer.word_index"
   ]
  },
  {
   "cell_type": "code",
   "execution_count": null,
   "id": "e61178af",
   "metadata": {},
   "outputs": [],
   "source": [
    "train_story_text = []\n",
    "train_question_text = []\n",
    "train_answers = []\n",
    "\n",
    "for story,question,answer in train_data:\n",
    "    train_story_text.append(story)\n",
    "    train_question_text.append(question)"
   ]
  },
  {
   "cell_type": "code",
   "execution_count": null,
   "id": "6cb1d8a8",
   "metadata": {},
   "outputs": [],
   "source": [
    "train_story_seq=tokenizer.texts_to_sequences(train_story_text)"
   ]
  },
  {
   "cell_type": "code",
   "execution_count": null,
   "id": "b243d05d",
   "metadata": {},
   "outputs": [],
   "source": [
    "train_story_text"
   ]
  },
  {
   "cell_type": "code",
   "execution_count": null,
   "id": "5e0e5809",
   "metadata": {},
   "outputs": [],
   "source": [
    "def vectorize_stories(data, word_index = tokenizer.word_index,\n",
    "                      max_story_len = max_story_len,max_ques_len=max_ques_len):\n",
    "\n",
    "\n",
    "            X=[]\n",
    "            Xq= []\n",
    "            Y=[]\n",
    "\n",
    "            for story,query,answer in data:\n",
    "                    x=[word_index[word.lower()] for word in story]\n",
    "                    xq=[word_index[word.lower()] for word in query]\n",
    "                    y=np.zeroes(len(word_index)+1)\n",
    "                    y[word_index[answer]]=1\n",
    "\n",
    "                    X.append(x)\n",
    "                    Xq.append(xq)\n",
    "                    Y.append(y)\n",
    "\n",
    "            return(pad_sequences(X,maxlen=max_story_len),\n",
    "                    pad_sequences(Xq,maxlen=max_ques_len),\n",
    "                     np.array(Y)  )\n",
    "    "
   ]
  },
  {
   "cell_type": "code",
   "execution_count": null,
   "id": "c6b9e2c2",
   "metadata": {},
   "outputs": [],
   "source": [
    "inputs_train,queries_train,answer_train = vectorize_stories(train_data)"
   ]
  },
  {
   "cell_type": "code",
   "execution_count": null,
   "id": "82be9067",
   "metadata": {},
   "outputs": [],
   "source": [
    "inputs_test,queries_test,answer_test = vectorize_stories(test_data)"
   ]
  },
  {
   "cell_type": "code",
   "execution_count": null,
   "id": "0e541e2b",
   "metadata": {},
   "outputs": [],
   "source": [
    "inputs_train"
   ]
  },
  {
   "cell_type": "code",
   "execution_count": null,
   "id": "2bfe27cc",
   "metadata": {},
   "outputs": [],
   "source": [
    "queries_test"
   ]
  },
  {
   "cell_type": "code",
   "execution_count": null,
   "id": "a2c14dda",
   "metadata": {},
   "outputs": [],
   "source": [
    "answers_test"
   ]
  },
  {
   "cell_type": "code",
   "execution_count": null,
   "id": "b33a6da7",
   "metadata": {},
   "outputs": [],
   "source": [
    "tokenizer.word_index['yes']"
   ]
  },
  {
   "cell_type": "code",
   "execution_count": null,
   "id": "417f676d",
   "metadata": {},
   "outputs": [],
   "source": [
    "tokenizer.word_index['no']"
   ]
  },
  {
   "cell_type": "code",
   "execution_count": null,
   "id": "db5b6c39",
   "metadata": {},
   "outputs": [],
   "source": [
    "from keras.models import Sequential, Model\n",
    "from keras.layers.embeddings import Embedding\n",
    "rom keras.layers import Input,Activation,Dense,Permute,Dropout,add,dot,concatenate,LSTM"
   ]
  },
  {
   "cell_type": "code",
   "execution_count": null,
   "id": "191cfa39",
   "metadata": {},
   "outputs": [],
   "source": [
    "input_sequence =Input((max_story_len,))\n",
    "question=Input((max_ques_len,))"
   ]
  },
  {
   "cell_type": "code",
   "execution_count": null,
   "id": "fe6cd5e9",
   "metadata": {},
   "outputs": [],
   "source": [
    "input_encoder_m=Sequential()\n",
    "input_encoder_m.add(Embedding(input_dim=vocab_len,output_dim=64))\n",
    "input_encoder_m.add(Dropout(0.3))"
   ]
  },
  {
   "cell_type": "code",
   "execution_count": null,
   "id": "db752f67",
   "metadata": {},
   "outputs": [],
   "source": [
    "input_encoder_c=Sequential()\n",
    "input_encoder_c.add(Embedding(input_dim=vocab_len,output_dim=max_ques_len))\n",
    "input_encoder_c.add(Dropout(0.3))"
   ]
  },
  {
   "cell_type": "code",
   "execution_count": null,
   "id": "9f0ff3b1",
   "metadata": {},
   "outputs": [],
   "source": [
    "question_encoder=Sequential()\n",
    "question_encoder.add(Embedding(input_dim=vocab_len,output_dim=64,input_length=max_ques_len))\n",
    "question_encoder.add(Dropout(0.3))"
   ]
  },
  {
   "cell_type": "code",
   "execution_count": null,
   "id": "cb82b554",
   "metadata": {},
   "outputs": [],
   "source": [
    "input_encoded_m=input_encoder_m(input_sequence)\n",
    "\n",
    "input_encoded_c=input_encoder_c(input_sequence)\n",
    "\n",
    "question_encoded = question_encoder(question)"
   ]
  },
  {
   "cell_type": "code",
   "execution_count": null,
   "id": "f2109e6f",
   "metadata": {},
   "outputs": [],
   "source": [
    "match=dot([input_encoded_m,question_encoded],axes=(2,2))\n",
    "\n",
    "match=Activation('softmax')(match)"
   ]
  },
  {
   "cell_type": "code",
   "execution_count": null,
   "id": "e40a004a",
   "metadata": {},
   "outputs": [],
   "source": [
    "response = add([match,input_encoded_c])\n",
    "response = Permute((2,1))(response)"
   ]
  },
  {
   "cell_type": "code",
   "execution_count": null,
   "id": "f8f85fa1",
   "metadata": {},
   "outputs": [],
   "source": [
    "answer=concatenate([response,question_encoded])"
   ]
  },
  {
   "cell_type": "code",
   "execution_count": null,
   "id": "1b04afab",
   "metadata": {},
   "outputs": [],
   "source": [
    "answer"
   ]
  },
  {
   "cell_type": "code",
   "execution_count": null,
   "id": "70f66aa5",
   "metadata": {},
   "outputs": [],
   "source": [
    "answer=LSTM(32)(answer)"
   ]
  },
  {
   "cell_type": "code",
   "execution_count": null,
   "id": "cf8bea43",
   "metadata": {},
   "outputs": [],
   "source": [
    "answer = Dropout(0.5)(answer)\n",
    "answer = Dense(vocab_len)(answer)"
   ]
  },
  {
   "cell_type": "code",
   "execution_count": null,
   "id": "c780dc8e",
   "metadata": {},
   "outputs": [],
   "source": [
    "answer = Activation('softmax')(answer)"
   ]
  },
  {
   "cell_type": "code",
   "execution_count": null,
   "id": "501df2c3",
   "metadata": {},
   "outputs": [],
   "source": [
    "model = Model([input_sequence, question],answer )\n",
    "model.compile(optimizer='rmsprop',loss='categorical_crossentropy',metrics = ['accuracy'])"
   ]
  },
  {
   "cell_type": "code",
   "execution_count": null,
   "id": "ad3a6f97",
   "metadata": {},
   "outputs": [],
   "source": [
    "model.summary()"
   ]
  },
  {
   "cell_type": "code",
   "execution_count": null,
   "id": "2c0574af",
   "metadata": {},
   "outputs": [],
   "source": [
    "history=model.fit([inputs_train,queries_train], answers_train,\n",
    "                   batch_size=32,epochs=20,\n",
    "                   validation_data=([inputs_test,queries_test],answers_test)\n",
    "                   )"
   ]
  },
  {
   "cell_type": "code",
   "execution_count": null,
   "id": "38aa9f7b",
   "metadata": {},
   "outputs": [],
   "source": [
    "import matplotlib.pyplot as plt\n",
    "print(history.history.keys())\n",
    "plt.plot(history.history['accuracy'])\n",
    "plt.plot(history.history['val_accuray'])\n",
    "plt.title(\"Model Accuracy\")\n",
    "plt.ylabel(\"Accuracy\")\n",
    "plt.xlabel(\"epochs\")\n"
   ]
  },
  {
   "cell_type": "code",
   "execution_count": null,
   "id": "fa04eac7",
   "metadata": {},
   "outputs": [],
   "source": [
    "model.save(\"chatbot_model\")"
   ]
  },
  {
   "cell_type": "code",
   "execution_count": null,
   "id": "60c0e95a",
   "metadata": {},
   "outputs": [],
   "source": [
    "model.load_weights(\"chatbot_model\")"
   ]
  },
  {
   "cell_type": "code",
   "execution_count": null,
   "id": "ac35f862",
   "metadata": {},
   "outputs": [],
   "source": [
    "pred_results = model.predict(([inputs_test,queries_test]))"
   ]
  },
  {
   "cell_type": "code",
   "execution_count": null,
   "id": "d0243300",
   "metadata": {},
   "outputs": [],
   "source": [
    "test_data[0][0]"
   ]
  },
  {
   "cell_type": "code",
   "execution_count": null,
   "id": "b7a9596d",
   "metadata": {},
   "outputs": [],
   "source": [
    "story = ' '.join(word for word in test_data[0][0])"
   ]
  },
  {
   "cell_type": "code",
   "execution_count": null,
   "id": "6148d21c",
   "metadata": {},
   "outputs": [],
   "source": [
    "story"
   ]
  },
  {
   "cell_type": "code",
   "execution_count": null,
   "id": "ed98022a",
   "metadata": {},
   "outputs": [],
   "source": [
    "query = ' '.join(word for word in test_data[0][1])"
   ]
  },
  {
   "cell_type": "code",
   "execution_count": null,
   "id": "c9927f0e",
   "metadata": {},
   "outputs": [],
   "source": [
    "query"
   ]
  },
  {
   "cell_type": "code",
   "execution_count": null,
   "id": "64e27802",
   "metadata": {},
   "outputs": [],
   "source": [
    "test_data[0][2]"
   ]
  },
  {
   "cell_type": "code",
   "execution_count": null,
   "id": "d8a535c4",
   "metadata": {},
   "outputs": [],
   "source": [
    "val_max = np.argmax(pred_results[0])\n",
    "\n",
    "for key,val in tokenizer.word_index.items():\n",
    "    if val == val_max:\n",
    "\n",
    "        k=key\n",
    "\n",
    "print(\"Predicted Answer is\",k)\n",
    "print(\"Probabilityy of certaininty\",pred_result[0][val_max])"
   ]
  },
  {
   "cell_type": "code",
   "execution_count": null,
   "id": "2af4a010",
   "metadata": {},
   "outputs": [],
   "source": [
    "vocab"
   ]
  },
  {
   "cell_type": "code",
   "execution_count": null,
   "id": "971f5a5c",
   "metadata": {},
   "outputs": [],
   "source": [
    "story='marry dropped the football. Sandra discarded apple in kitchen'\n",
    "story.split()"
   ]
  },
  {
   "cell_type": "code",
   "execution_count": null,
   "id": "b3540a0d",
   "metadata": {},
   "outputs": [],
   "source": [
    "my_question = \"Is apple in the kitchen ? \""
   ]
  },
  {
   "cell_type": "code",
   "execution_count": null,
   "id": "b709fcb7",
   "metadata": {},
   "outputs": [],
   "source": [
    "my_question.split()"
   ]
  },
  {
   "cell_type": "code",
   "execution_count": null,
   "id": "ec2671de",
   "metadata": {},
   "outputs": [],
   "source": [
    "mydata = [(story.split(),my_question.split(),'yes')]"
   ]
  },
  {
   "cell_type": "code",
   "execution_count": null,
   "id": "b3271c4b",
   "metadata": {},
   "outputs": [],
   "source": [
    "my_story,my_ques,my_ans = vectorize_stories(mydata)"
   ]
  },
  {
   "cell_type": "code",
   "execution_count": null,
   "id": "b99f874c",
   "metadata": {},
   "outputs": [],
   "source": [
    "pred_results=model.predict(([my_story,my_ques]))"
   ]
  },
  {
   "cell_type": "code",
   "execution_count": null,
   "id": "c7c71e1a",
   "metadata": {},
   "outputs": [],
   "source": [
    "val_max = np.argmax(pred_results[0])\n",
    "\n",
    "for key,val in tokenizer.word_index.items():\n",
    "    if val == val_max:\n",
    "\n",
    "        k=key\n",
    "\n",
    "print(\"Predicted Answer is\",k)\n",
    "print(\"Probability of certaininty\",pred_result[0][val_max])"
   ]
  },
  {
   "cell_type": "code",
   "execution_count": null,
   "id": "f2609606",
   "metadata": {},
   "outputs": [],
   "source": []
  },
  {
   "cell_type": "code",
   "execution_count": null,
   "id": "b211d112",
   "metadata": {},
   "outputs": [],
   "source": []
  },
  {
   "cell_type": "code",
   "execution_count": null,
   "id": "29006270",
   "metadata": {},
   "outputs": [],
   "source": []
  }
 ],
 "metadata": {
  "kernelspec": {
   "display_name": "Python 3",
   "language": "python",
   "name": "python3"
  },
  "language_info": {
   "codemirror_mode": {
    "name": "ipython",
    "version": 3
   },
   "file_extension": ".py",
   "mimetype": "text/x-python",
   "name": "python",
   "nbconvert_exporter": "python",
   "pygments_lexer": "ipython3",
   "version": "3.8.8"
  }
 },
 "nbformat": 4,
 "nbformat_minor": 5
}
